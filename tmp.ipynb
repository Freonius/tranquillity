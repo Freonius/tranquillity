{
 "cells": [
  {
   "cell_type": "code",
   "execution_count": 1,
   "metadata": {},
   "outputs": [],
   "source": [
    "from src.data._dataobject import DataObject\n",
    "from src.data.types._text import String, NSString\n",
    "from src.data.types._nested import Nested, NSNested\n",
    "# from src.data.types._list import List\n",
    "from src.data.types._int import Int\n",
    "from graphene import ObjectType, Schema, Field, List"
   ]
  },
  {
   "cell_type": "code",
   "execution_count": 2,
   "metadata": {},
   "outputs": [],
   "source": [
    "class City(DataObject):\n",
    "    name = NSString()\n",
    "    country = NSString(max_length=3, min_length=2, uppercase=True)\n",
    "\n"
   ]
  },
  {
   "cell_type": "code",
   "execution_count": 3,
   "metadata": {},
   "outputs": [
    {
     "data": {
      "text/plain": [
       "<GQLABCMeta meta=<ObjectTypeOptions name='GQLABCMeta'>>"
      ]
     },
     "execution_count": 3,
     "metadata": {},
     "output_type": "execute_result"
    }
   ],
   "source": [
    "City.graphql()"
   ]
  },
  {
   "cell_type": "code",
   "execution_count": 4,
   "metadata": {},
   "outputs": [],
   "source": [
    "class Query(ObjectType):\n",
    "    cities = List(City.get_graphql_type(City()))\n",
    "\n",
    "    def resolve_cities(root, info, *args, **kwargs):\n",
    "        return [\n",
    "            City(name='Piacenza', country='it').get_graphql_type(),\n",
    "            City(name='Milan', country='it').get_graphql_type(),\n",
    "            City(name='Kigali', country='rw')\n",
    "        ]"
   ]
  },
  {
   "cell_type": "code",
   "execution_count": 5,
   "metadata": {},
   "outputs": [],
   "source": [
    "schema = Schema(query=Query)"
   ]
  },
  {
   "cell_type": "code",
   "execution_count": 6,
   "metadata": {},
   "outputs": [],
   "source": [
    "res = schema.execute('query {  cities { name country } }')"
   ]
  },
  {
   "cell_type": "code",
   "execution_count": 7,
   "metadata": {},
   "outputs": [],
   "source": [
    "m = [City(**x) for x in res.data['cities']]"
   ]
  },
  {
   "cell_type": "code",
   "execution_count": 8,
   "metadata": {},
   "outputs": [
    {
     "data": {
      "text/plain": [
       "[<City>, <City>]"
      ]
     },
     "execution_count": 8,
     "metadata": {},
     "output_type": "execute_result"
    }
   ],
   "source": [
    "City.filter_re_rule(m, 'country==\"IT\"')"
   ]
  },
  {
   "cell_type": "code",
   "execution_count": 9,
   "metadata": {},
   "outputs": [],
   "source": [
    "from cryptography.fernet import Fernet"
   ]
  },
  {
   "cell_type": "code",
   "execution_count": 10,
   "metadata": {},
   "outputs": [
    {
     "data": {
      "text/plain": [
       "b'pYmUTQG8OWH2vyMrm5EAIw7PLXXXspZBz0YfW2Y9HAg='"
      ]
     },
     "execution_count": 10,
     "metadata": {},
     "output_type": "execute_result"
    }
   ],
   "source": [
    "Fernet.generate_key()"
   ]
  },
  {
   "cell_type": "code",
   "execution_count": 11,
   "metadata": {},
   "outputs": [],
   "source": [
    "fr = Fernet(Fernet.generate_key())"
   ]
  },
  {
   "cell_type": "code",
   "execution_count": 12,
   "metadata": {},
   "outputs": [],
   "source": [
    "enc = fr.encrypt(bytes('hello', 'utf-8'))"
   ]
  },
  {
   "cell_type": "code",
   "execution_count": 13,
   "metadata": {},
   "outputs": [
    {
     "data": {
      "text/plain": [
       "'hello'"
      ]
     },
     "execution_count": 13,
     "metadata": {},
     "output_type": "execute_result"
    }
   ],
   "source": [
    "fr.decrypt(enc).decode('utf-8')"
   ]
  },
  {
   "cell_type": "code",
   "execution_count": 14,
   "metadata": {},
   "outputs": [
    {
     "data": {
      "text/plain": [
       "'gAAAAABh7ymOLQfMQAjfk8UNtyILPTAwlx7Vx6eYw_ty7sbnLjX4CllDvoU3c1Atc411K_0itAik43A_QOdclSaE9DFMFHAtuA=='"
      ]
     },
     "execution_count": 14,
     "metadata": {},
     "output_type": "execute_result"
    }
   ],
   "source": [
    "enc.decode('utf-8')"
   ]
  },
  {
   "cell_type": "code",
   "execution_count": 15,
   "metadata": {},
   "outputs": [],
   "source": [
    "from src.data.types._password import Password\n",
    "from src.data.types._text import NSString\n",
    "\n",
    "class User(DataObject):\n",
    "    username = NSString()\n",
    "    password = Password(Fernet.generate_key())\n",
    "\n",
    "u = User(username='FrodoBaggins', password='tequila!')"
   ]
  },
  {
   "cell_type": "code",
   "execution_count": 16,
   "metadata": {},
   "outputs": [
    {
     "data": {
      "text/plain": [
       "False"
      ]
     },
     "execution_count": 16,
     "metadata": {},
     "output_type": "execute_result"
    }
   ],
   "source": [
    "u.password == 'tequila!'"
   ]
  },
  {
   "cell_type": "code",
   "execution_count": 17,
   "metadata": {},
   "outputs": [
    {
     "data": {
      "text/plain": [
       "'gAAAAABh7ymOw-NZgy1rH22Xd1_GiThwalhsaoWztVKlU2ylNOAcDOQTNa_458Jj83A_VgcPeRDdFn9UUZDcaYTBKDvZNtgipQ=='"
      ]
     },
     "execution_count": 17,
     "metadata": {},
     "output_type": "execute_result"
    }
   ],
   "source": [
    "u.password"
   ]
  },
  {
   "cell_type": "code",
   "execution_count": 112,
   "metadata": {},
   "outputs": [],
   "source": [
    "from typing import Union\n",
    "\n",
    "class EncryptedString:\n",
    "    _key: bytes = NotImplemented\n",
    "    _val: str\n",
    "    _f = False\n",
    "\n",
    "    @property\n",
    "    def value(self) -> str:\n",
    "        return Fernet(self._key).decrypt(self._val.encode('utf-8')).decode('utf-8')\n",
    "\n",
    "    @value.setter\n",
    "    def value(self, val: str) -> None:\n",
    "        self._val = Fernet(self._key).encrypt(val.encode('utf-8')).decode('utf-8')\n",
    "\n",
    "    @property\n",
    "    def raw(self) -> str:\n",
    "        return self._val\n",
    "\n",
    "    @raw.setter\n",
    "    def raw(self, val: str) -> None:\n",
    "        self._val = val\n",
    "\n",
    "    def __eq__(self, __o: object) -> bool:\n",
    "        if isinstance(__o, str):\n",
    "            __o = Fernet(self._key).encrypt(\n",
    "                __o.encode('utf-8')).decode('utf-8')\n",
    "        elif isinstance(__o, bytes):\n",
    "            __o = Fernet(self._key).encrypt(\n",
    "                __o).decode('utf-8')\n",
    "        return super().__eq__(__o)\n",
    "\n",
    "    def __eq__(self, __o: object) -> bool:\n",
    "        return __o == self.value or __o == self.raw\n",
    "\n",
    "    def __init__(self, val: str, key: Union[str, bytes, None] = None) -> None:\n",
    "        if key is None:\n",
    "            key = Fernet.generate_key()\n",
    "        if isinstance(key, str):\n",
    "            key = bytes(key, 'utf-8')\n",
    "        self._key = key\n",
    "        self.value = val\n",
    "\n",
    "    @classmethod\n",
    "    def from_raw(cls, raw, key):\n",
    "        c = cls('', key)\n",
    "        c.raw = raw\n",
    "        return c\n",
    "\n",
    "    def __str__(self) -> str:\n",
    "        return self.raw"
   ]
  },
  {
   "cell_type": "code",
   "execution_count": 113,
   "metadata": {},
   "outputs": [],
   "source": [
    "g = EncryptedString('tequila!')"
   ]
  },
  {
   "cell_type": "code",
   "execution_count": 114,
   "metadata": {},
   "outputs": [
    {
     "data": {
      "text/plain": [
       "True"
      ]
     },
     "execution_count": 114,
     "metadata": {},
     "output_type": "execute_result"
    }
   ],
   "source": [
    "g == 'tequila!'"
   ]
  },
  {
   "cell_type": "code",
   "execution_count": 115,
   "metadata": {},
   "outputs": [
    {
     "data": {
      "text/plain": [
       "'tequila!'"
      ]
     },
     "execution_count": 115,
     "metadata": {},
     "output_type": "execute_result"
    }
   ],
   "source": [
    "g.value"
   ]
  },
  {
   "cell_type": "code",
   "execution_count": 116,
   "metadata": {},
   "outputs": [],
   "source": [
    "g.value = 'tequila?'"
   ]
  },
  {
   "cell_type": "code",
   "execution_count": 117,
   "metadata": {},
   "outputs": [
    {
     "data": {
      "text/plain": [
       "'tequila?'"
      ]
     },
     "execution_count": 117,
     "metadata": {},
     "output_type": "execute_result"
    }
   ],
   "source": [
    "g.value"
   ]
  },
  {
   "cell_type": "code",
   "execution_count": 118,
   "metadata": {},
   "outputs": [
    {
     "data": {
      "text/plain": [
       "'gAAAAABh7zL92XjPQH4bbvSFNBEWbBDmkSuUZ-34Iv42CqEjlYNA9uXQ3LH0R_PG9FHdKHimsZ4DxX3fb4QfxN8YBywskczmIA=='"
      ]
     },
     "execution_count": 118,
     "metadata": {},
     "output_type": "execute_result"
    }
   ],
   "source": [
    "g.raw"
   ]
  },
  {
   "cell_type": "code",
   "execution_count": 119,
   "metadata": {},
   "outputs": [],
   "source": [
    "g2 = EncryptedString.from_raw(g.raw, g._key)"
   ]
  },
  {
   "cell_type": "code",
   "execution_count": null,
   "metadata": {},
   "outputs": [],
   "source": []
  },
  {
   "cell_type": "code",
   "execution_count": 120,
   "metadata": {},
   "outputs": [
    {
     "data": {
      "text/plain": [
       "'tequila?'"
      ]
     },
     "execution_count": 120,
     "metadata": {},
     "output_type": "execute_result"
    }
   ],
   "source": [
    "g2.value"
   ]
  },
  {
   "cell_type": "code",
   "execution_count": 121,
   "metadata": {},
   "outputs": [
    {
     "data": {
      "text/plain": [
       "True"
      ]
     },
     "execution_count": 121,
     "metadata": {},
     "output_type": "execute_result"
    }
   ],
   "source": [
    "g2 == g.raw"
   ]
  },
  {
   "cell_type": "code",
   "execution_count": 122,
   "metadata": {},
   "outputs": [],
   "source": [
    "g.value = 'tequila!'"
   ]
  },
  {
   "cell_type": "code",
   "execution_count": 123,
   "metadata": {},
   "outputs": [
    {
     "data": {
      "text/plain": [
       "False"
      ]
     },
     "execution_count": 123,
     "metadata": {},
     "output_type": "execute_result"
    }
   ],
   "source": [
    "g2 == g.raw"
   ]
  },
  {
   "cell_type": "code",
   "execution_count": null,
   "metadata": {},
   "outputs": [],
   "source": []
  },
  {
   "cell_type": "code",
   "execution_count": null,
   "metadata": {},
   "outputs": [],
   "source": []
  },
  {
   "cell_type": "code",
   "execution_count": 124,
   "metadata": {},
   "outputs": [
    {
     "data": {
      "text/plain": [
       "'gAAAAABh7zL-SdkJ04zIaDHlxVJFlmHRuCXgGKw2_0oTIOtovC_b_10gJskcoExv74Ki4_Pixjm-9CoMMi9dTCvmpz7g8dVQxA=='"
      ]
     },
     "execution_count": 124,
     "metadata": {},
     "output_type": "execute_result"
    }
   ],
   "source": [
    "str(g)"
   ]
  }
 ],
 "metadata": {
  "interpreter": {
   "hash": "2be5faf79681da6f2a61fdfdd5405d65d042280f7fba6178067603e3a2925119"
  },
  "kernelspec": {
   "display_name": "Python 3.10.0 64-bit",
   "language": "python",
   "name": "python3"
  },
  "language_info": {
   "codemirror_mode": {
    "name": "ipython",
    "version": 3
   },
   "file_extension": ".py",
   "mimetype": "text/x-python",
   "name": "python",
   "nbconvert_exporter": "python",
   "pygments_lexer": "ipython3",
   "version": "3.10.0"
  },
  "orig_nbformat": 4
 },
 "nbformat": 4,
 "nbformat_minor": 2
}
