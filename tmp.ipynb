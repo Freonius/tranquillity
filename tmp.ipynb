{
 "cells": [
  {
   "cell_type": "code",
   "execution_count": null,
   "metadata": {},
   "outputs": [],
   "source": [
    "from src.data._dataobject import DataObject\n",
    "from src.data.types._date import NSDate\n",
    "from src.data.types._datetime import DateTime\n",
    "from src.data.types._text import String, NSString\n",
    "from src.data.types._int import Int\n",
    "from src.data.types._phone_number import PhoneNumber\n",
    "from src.data.types._id import MongoId, Id, StrId\n",
    "from src.data.types._time import Time\n",
    "from src.data.types._nested import Nested\n",
    "from src.data.types._list import List\n",
    "from src.connections._elasticsearch import Elasticsearch\n",
    "from src.api._api import Api"
   ]
  },
  {
   "cell_type": "code",
   "execution_count": null,
   "metadata": {},
   "outputs": [],
   "source": [
    "class City(DataObject):\n",
    "    __conn__ = Elasticsearch\n",
    "    id = StrId(exclude=True)\n",
    "    name = NSString()\n",
    "    country_code = NSString(min_length=2, max_length=3, uppercase=True)\n",
    "\n",
    "\n",
    "\n",
    "class User(DataObject):\n",
    "    __conn__ = Elasticsearch\n",
    "    first_name = NSString(min_length=3, json_field='firstName')\n",
    "    last_name = NSString(json_field='lastName')\n",
    "    mobile = PhoneNumber(indexable=False)\n",
    "    id = StrId()\n",
    "    created = DateTime(default='now', indexable=False)\n",
    "    birthday = NSDate()\n",
    "    favourite_time = Time(indexable=False)\n",
    "    cities = List(City, filterable=False)\n",
    "\n",
    "User.set_permission('delete', 'admin')\n"
   ]
  },
  {
   "cell_type": "code",
   "execution_count": null,
   "metadata": {},
   "outputs": [],
   "source": [
    "User.drop_table()"
   ]
  },
  {
   "cell_type": "code",
   "execution_count": null,
   "metadata": {},
   "outputs": [],
   "source": [
    "\n",
    "User.to_es_mapping()"
   ]
  },
  {
   "cell_type": "code",
   "execution_count": null,
   "metadata": {},
   "outputs": [],
   "source": [
    "User.__permissions__"
   ]
  },
  {
   "cell_type": "code",
   "execution_count": null,
   "metadata": {},
   "outputs": [],
   "source": [
    "User.create_table()"
   ]
  },
  {
   "cell_type": "code",
   "execution_count": null,
   "metadata": {},
   "outputs": [],
   "source": [
    "u = User(\n",
    "    first_name='Frodo',\n",
    "    last_name='Baggins',\n",
    "    mobile='+39 375 57 44 512',\n",
    "    birthday='1988-07-25',\n",
    "    favourite_time='18:00',\n",
    "    cities=[City(name='Piacenza', country_code='IT')]\n",
    ")"
   ]
  },
  {
   "cell_type": "code",
   "execution_count": null,
   "metadata": {},
   "outputs": [],
   "source": [
    "u.validate()"
   ]
  },
  {
   "cell_type": "code",
   "execution_count": null,
   "metadata": {},
   "outputs": [],
   "source": [
    "u.add_to_db()"
   ]
  },
  {
   "cell_type": "code",
   "execution_count": null,
   "metadata": {},
   "outputs": [],
   "source": [
    "u.to_json(False)"
   ]
  },
  {
   "cell_type": "code",
   "execution_count": null,
   "metadata": {},
   "outputs": [],
   "source": [
    "u.first_name = 'Frodo Jr.'"
   ]
  },
  {
   "cell_type": "code",
   "execution_count": null,
   "metadata": {},
   "outputs": [],
   "source": [
    "u.add_to_db()"
   ]
  },
  {
   "cell_type": "code",
   "execution_count": null,
   "metadata": {},
   "outputs": [],
   "source": [
    "u.to_dict()"
   ]
  },
  {
   "cell_type": "code",
   "execution_count": null,
   "metadata": {},
   "outputs": [],
   "source": [
    "users = User.get_from_db()"
   ]
  },
  {
   "cell_type": "code",
   "execution_count": null,
   "metadata": {},
   "outputs": [],
   "source": [
    "for user in users:\n",
    "    print(user.to_json())"
   ]
  },
  {
   "cell_type": "code",
   "execution_count": null,
   "metadata": {},
   "outputs": [],
   "source": [
    "api = Api()\n",
    "api.add_entity(User)\n",
    "api.add_entity(City)"
   ]
  },
  {
   "cell_type": "code",
   "execution_count": null,
   "metadata": {},
   "outputs": [],
   "source": [
    "with api:\n",
    "    while True:\n",
    "        try:\n",
    "            continue\n",
    "        except:\n",
    "            api.stop()\n",
    "            break"
   ]
  },
  {
   "cell_type": "code",
   "execution_count": 4,
   "metadata": {},
   "outputs": [],
   "source": [
    "from psycopg2 import connect\n",
    "from psycopg2._psycopg import connection"
   ]
  },
  {
   "cell_type": "code",
   "execution_count": 1,
   "metadata": {},
   "outputs": [],
   "source": [
    "from src.connections import Postgres"
   ]
  },
  {
   "cell_type": "code",
   "execution_count": 3,
   "metadata": {},
   "outputs": [],
   "source": [
    "with Postgres() as p:\n",
    "    p.is_connected"
   ]
  },
  {
   "cell_type": "code",
   "execution_count": 4,
   "metadata": {},
   "outputs": [
    {
     "data": {
      "text/plain": [
       "False"
      ]
     },
     "execution_count": 4,
     "metadata": {},
     "output_type": "execute_result"
    }
   ],
   "source": [
    "p.is_connected"
   ]
  },
  {
   "cell_type": "code",
   "execution_count": null,
   "metadata": {},
   "outputs": [],
   "source": []
  }
 ],
 "metadata": {
  "interpreter": {
   "hash": "2be5faf79681da6f2a61fdfdd5405d65d042280f7fba6178067603e3a2925119"
  },
  "kernelspec": {
   "display_name": "Python 3.10.0 64-bit",
   "language": "python",
   "name": "python3"
  },
  "language_info": {
   "codemirror_mode": {
    "name": "ipython",
    "version": 3
   },
   "file_extension": ".py",
   "mimetype": "text/x-python",
   "name": "python",
   "nbconvert_exporter": "python",
   "pygments_lexer": "ipython3",
   "version": "3.10.0"
  },
  "orig_nbformat": 4
 },
 "nbformat": 4,
 "nbformat_minor": 2
}
