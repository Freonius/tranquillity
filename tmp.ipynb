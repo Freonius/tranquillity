{
 "cells": [
  {
   "cell_type": "code",
   "execution_count": 1,
   "metadata": {},
   "outputs": [],
   "source": [
    "from src.data._dataobject import DataObject\n",
    "from src.data.types._date import NSDate\n",
    "from src.data.types._datetime import DateTime\n",
    "from src.data.types._text import String, NSString\n",
    "from src.data.types._int import Int\n",
    "from src.data.types._phone_number import PhoneNumber\n",
    "from src.data.types._id import MongoId, Id, StrId\n",
    "from src.data.types._time import Time\n",
    "from src.connections._elasticsearch import Elasticsearch\n",
    "from src.api._api import Api"
   ]
  },
  {
   "cell_type": "code",
   "execution_count": 2,
   "metadata": {},
   "outputs": [],
   "source": [
    "\n",
    "class User(DataObject):\n",
    "    __conn__ = Elasticsearch\n",
    "    first_name = NSString(min_length=3, json_field='firstName')\n",
    "    last_name = NSString(json_field='lastName')\n",
    "    mobile = PhoneNumber()\n",
    "    id = StrId()\n",
    "    created = DateTime(default='now')\n",
    "    birthday=NSDate()\n",
    "    favourite_time=Time()"
   ]
  },
  {
   "cell_type": "code",
   "execution_count": 3,
   "metadata": {},
   "outputs": [
    {
     "data": {
      "text/plain": [
       "True"
      ]
     },
     "execution_count": 3,
     "metadata": {},
     "output_type": "execute_result"
    }
   ],
   "source": [
    "User.drop_table()"
   ]
  },
  {
   "cell_type": "code",
   "execution_count": 4,
   "metadata": {},
   "outputs": [
    {
     "data": {
      "text/plain": [
       "True"
      ]
     },
     "execution_count": 4,
     "metadata": {},
     "output_type": "execute_result"
    }
   ],
   "source": [
    "User.create_table()"
   ]
  },
  {
   "cell_type": "code",
   "execution_count": 5,
   "metadata": {},
   "outputs": [],
   "source": [
    "u = User(\n",
    "    first_name='Frodo',\n",
    "    last_name='Baggins',\n",
    "    mobile='+39 375 57 44 512',\n",
    "    birthday='1988-07-25',\n",
    "    favourite_time='18:00',\n",
    ")"
   ]
  },
  {
   "cell_type": "code",
   "execution_count": 6,
   "metadata": {},
   "outputs": [
    {
     "data": {
      "text/plain": [
       "True"
      ]
     },
     "execution_count": 6,
     "metadata": {},
     "output_type": "execute_result"
    }
   ],
   "source": [
    "u.add_to_db()"
   ]
  },
  {
   "cell_type": "code",
   "execution_count": 7,
   "metadata": {},
   "outputs": [
    {
     "data": {
      "text/plain": [
       "{'birthday': '1988-07-25',\n",
       " 'created': '2022-02-15T21:25:27.213021',\n",
       " 'favourite_time': '18:00:00.000000',\n",
       " 'first_name': 'Frodo',\n",
       " '_id': 'LAQP_34BxgfpqKEoxEhV',\n",
       " 'last_name': 'Baggins',\n",
       " 'mobile': '+39 375 57 44 512'}"
      ]
     },
     "execution_count": 7,
     "metadata": {},
     "output_type": "execute_result"
    }
   ],
   "source": [
    "u.to_dict()"
   ]
  },
  {
   "cell_type": "code",
   "execution_count": 8,
   "metadata": {},
   "outputs": [],
   "source": [
    "u.first_name = 'Frodo Jr.'"
   ]
  },
  {
   "cell_type": "code",
   "execution_count": 9,
   "metadata": {},
   "outputs": [
    {
     "data": {
      "text/plain": [
       "True"
      ]
     },
     "execution_count": 9,
     "metadata": {},
     "output_type": "execute_result"
    }
   ],
   "source": [
    "u.add_to_db()"
   ]
  },
  {
   "cell_type": "code",
   "execution_count": 10,
   "metadata": {},
   "outputs": [
    {
     "data": {
      "text/plain": [
       "{'birthday': '1988-07-25',\n",
       " 'created': '2022-02-15T21:25:27.213021',\n",
       " 'favourite_time': '18:00:00.000000',\n",
       " 'first_name': 'Frodo Jr.',\n",
       " '_id': 'LAQP_34BxgfpqKEoxEhV',\n",
       " 'last_name': 'Baggins',\n",
       " 'mobile': '+39 375 57 44 512'}"
      ]
     },
     "execution_count": 10,
     "metadata": {},
     "output_type": "execute_result"
    }
   ],
   "source": [
    "u.to_dict()"
   ]
  },
  {
   "cell_type": "code",
   "execution_count": 11,
   "metadata": {},
   "outputs": [],
   "source": [
    "users = User.get_from_db()"
   ]
  },
  {
   "cell_type": "code",
   "execution_count": 12,
   "metadata": {},
   "outputs": [
    {
     "name": "stdout",
     "output_type": "stream",
     "text": [
      "{\"birthday\": \"1988-07-25\", \"created\": \"2022-02-15T21:25:27.213021\", \"favourite_time\": \"18:00:00.000000\", \"firstName\": \"Frodo\", \"_id\": \"LAQP_34BxgfpqKEoxEhV\", \"lastName\": \"Baggins\", \"mobile\": \"+39 375 57 44 512\"}\n"
     ]
    }
   ],
   "source": [
    "for user in users:\n",
    "    print(user.to_json())"
   ]
  },
  {
   "cell_type": "code",
   "execution_count": 13,
   "metadata": {},
   "outputs": [
    {
     "data": {
      "text/plain": [
       "<src.api._api.Api at 0x27faab20f10>"
      ]
     },
     "execution_count": 13,
     "metadata": {},
     "output_type": "execute_result"
    }
   ],
   "source": [
    "api = Api()\n",
    "api.add_entity(User)"
   ]
  },
  {
   "cell_type": "code",
   "execution_count": 14,
   "metadata": {},
   "outputs": [
    {
     "name": "stdout",
     "output_type": "stream",
     "text": [
      "[Tranquillity@192.168.1.51:2022-02-15 21:25:39,569:_dataobject:474:INFO] Started request: [GET] /api/v1/user/\n",
      "[Tranquillity@192.168.1.51:2022-02-15 21:25:39,689:_dataobject:486:DEBUG] [GET] /api/v1/user/ Took 119.921ms\n",
      "[Tranquillity@192.168.1.51:2022-02-15 21:25:39,691:_dataobject:489:INFO] Finished request (status_code: 200): [GET] /api/v1/user/\n",
      "[Tranquillity@192.168.1.51:2022-02-15 21:25:49,871:_dataobject:474:INFO] Started request: [GET] /api/v1/user/\n",
      "[Tranquillity@192.168.1.51:2022-02-15 21:25:49,942:_dataobject:486:DEBUG] [GET] /api/v1/user/ Took 71.179ms\n",
      "[Tranquillity@192.168.1.51:2022-02-15 21:25:49,943:_dataobject:489:INFO] Finished request (status_code: 200): [GET] /api/v1/user/\n",
      "[Tranquillity@192.168.1.51:2022-02-15 21:26:34,135:_dataobject:474:INFO] Started request: [POST] /api/v1/user/\n",
      "[Tranquillity@192.168.1.51:2022-02-15 21:26:34,221:_dataobject:524:DEBUG] Added <User _id=MgQQ_34BxgfpqKEovUhq>\n",
      "[Tranquillity@192.168.1.51:2022-02-15 21:26:34,224:_dataobject:486:DEBUG] [POST] /api/v1/user/ Took 89.032ms\n",
      "[Tranquillity@192.168.1.51:2022-02-15 21:26:34,226:_dataobject:489:INFO] Finished request (status_code: 200): [POST] /api/v1/user/\n",
      "[Tranquillity@192.168.1.51:2022-02-15 21:26:55,482:_dataobject:474:INFO] Started request: [GET] /api/v1/user/\n",
      "[Tranquillity@192.168.1.51:2022-02-15 21:26:56,201:_dataobject:486:DEBUG] [GET] /api/v1/user/ Took 718.94ms\n",
      "[Tranquillity@192.168.1.51:2022-02-15 21:26:56,203:_dataobject:489:INFO] Finished request (status_code: 200): [GET] /api/v1/user/\n",
      "[Tranquillity@192.168.1.51:2022-02-15 21:26:59,264:_dataobject:474:INFO] Started request: [GET] /api/v1/user/\n",
      "[Tranquillity@192.168.1.51:2022-02-15 21:26:59,380:_dataobject:486:DEBUG] [GET] /api/v1/user/ Took 116.506ms\n",
      "[Tranquillity@192.168.1.51:2022-02-15 21:26:59,383:_dataobject:489:INFO] Finished request (status_code: 200): [GET] /api/v1/user/\n",
      "[Tranquillity@192.168.1.51:2022-02-15 21:27:00,673:_dataobject:474:INFO] Started request: [GET] /api/v1/user/\n",
      "[Tranquillity@192.168.1.51:2022-02-15 21:27:00,820:_dataobject:486:DEBUG] [GET] /api/v1/user/ Took 146.624ms\n",
      "[Tranquillity@192.168.1.51:2022-02-15 21:27:00,822:_dataobject:489:INFO] Finished request (status_code: 200): [GET] /api/v1/user/\n",
      "[Tranquillity@192.168.1.51:2022-02-15 21:27:48,856:_dataobject:474:INFO] Started request: [GET] /api/v1/user/\n",
      "[Tranquillity@192.168.1.51:2022-02-15 21:27:49,082:_dataobject:486:DEBUG] [GET] /api/v1/user/ Took 226.803ms\n",
      "[Tranquillity@192.168.1.51:2022-02-15 21:27:49,085:_dataobject:489:INFO] Finished request (status_code: 200): [GET] /api/v1/user/\n",
      "[Tranquillity@192.168.1.51:2022-02-15 21:27:50,116:_dataobject:474:INFO] Started request: [GET] /api/v1/user/\n",
      "[Tranquillity@192.168.1.51:2022-02-15 21:27:50,228:_dataobject:486:DEBUG] [GET] /api/v1/user/ Took 112.32900000000001ms\n",
      "[Tranquillity@192.168.1.51:2022-02-15 21:27:50,231:_dataobject:489:INFO] Finished request (status_code: 200): [GET] /api/v1/user/\n",
      "[Tranquillity@192.168.1.51:2022-02-15 21:27:50,508:_dataobject:474:INFO] Started request: [GET] /api/v1/user/\n",
      "[Tranquillity@192.168.1.51:2022-02-15 21:27:50,613:_dataobject:486:DEBUG] [GET] /api/v1/user/ Took 104.49300000000001ms\n",
      "[Tranquillity@192.168.1.51:2022-02-15 21:27:50,614:_dataobject:489:INFO] Finished request (status_code: 200): [GET] /api/v1/user/\n",
      "[Tranquillity@192.168.1.51:2022-02-15 21:27:50,892:_dataobject:474:INFO] Started request: [GET] /api/v1/user/\n",
      "[Tranquillity@192.168.1.51:2022-02-15 21:27:51,023:_dataobject:486:DEBUG] [GET] /api/v1/user/ Took 130.463ms\n",
      "[Tranquillity@192.168.1.51:2022-02-15 21:27:51,025:_dataobject:489:INFO] Finished request (status_code: 200): [GET] /api/v1/user/\n",
      "[Tranquillity@192.168.1.51:2022-02-15 21:27:51,330:_dataobject:474:INFO] Started request: [GET] /api/v1/user/\n",
      "[Tranquillity@192.168.1.51:2022-02-15 21:27:51,526:_dataobject:486:DEBUG] [GET] /api/v1/user/ Took 196.185ms\n",
      "[Tranquillity@192.168.1.51:2022-02-15 21:27:51,527:_dataobject:489:INFO] Finished request (status_code: 200): [GET] /api/v1/user/\n",
      "[Tranquillity@192.168.1.51:2022-02-15 21:27:51,733:_dataobject:474:INFO] Started request: [GET] /api/v1/user/\n",
      "[Tranquillity@192.168.1.51:2022-02-15 21:27:51,855:_dataobject:486:DEBUG] [GET] /api/v1/user/ Took 121.76ms\n",
      "[Tranquillity@192.168.1.51:2022-02-15 21:27:51,857:_dataobject:489:INFO] Finished request (status_code: 200): [GET] /api/v1/user/\n",
      "[Tranquillity@192.168.1.51:2022-02-15 21:27:52,135:_dataobject:474:INFO] Started request: [GET] /api/v1/user/\n",
      "[Tranquillity@192.168.1.51:2022-02-15 21:27:52,264:_dataobject:486:DEBUG] [GET] /api/v1/user/ Took 128.556ms\n",
      "[Tranquillity@192.168.1.51:2022-02-15 21:27:52,266:_dataobject:489:INFO] Finished request (status_code: 200): [GET] /api/v1/user/\n",
      "[Tranquillity@192.168.1.51:2022-02-15 21:27:52,542:_dataobject:474:INFO] Started request: [GET] /api/v1/user/\n",
      "[Tranquillity@192.168.1.51:2022-02-15 21:27:52,664:_dataobject:486:DEBUG] [GET] /api/v1/user/ Took 122.414ms\n",
      "[Tranquillity@192.168.1.51:2022-02-15 21:27:52,666:_dataobject:489:INFO] Finished request (status_code: 200): [GET] /api/v1/user/\n"
     ]
    }
   ],
   "source": [
    "with api:\n",
    "    while True:\n",
    "        try:\n",
    "            continue\n",
    "        except:\n",
    "            break"
   ]
  },
  {
   "cell_type": "code",
   "execution_count": null,
   "metadata": {},
   "outputs": [
    {
     "name": "stdout",
     "output_type": "stream",
     "text": [
      "[Tranquillity@192.168.1.51:2022-02-15 20:35:05,609:_dataobject:471:INFO] Started request: [GET] /api/v1/user/1\n",
      "[Tranquillity@192.168.1.51:2022-02-15 20:35:06,954:_dataobject:460:ERROR] Got status code 404 with message HTTP 404: Not Found\n",
      "[Tranquillity@192.168.1.51:2022-02-15 20:35:06,962:_dataobject:479:INFO] Finished request (status_code: 404): [GET] /api/v1/user/1\n"
     ]
    }
   ],
   "source": [
    "# api.stop()"
   ]
  },
  {
   "cell_type": "code",
   "execution_count": null,
   "metadata": {},
   "outputs": [],
   "source": [
    "from timeit import default_timer"
   ]
  },
  {
   "cell_type": "code",
   "execution_count": null,
   "metadata": {},
   "outputs": [],
   "source": [
    "from datetime import datetime\n",
    "start = datetime.now()\n"
   ]
  },
  {
   "cell_type": "code",
   "execution_count": null,
   "metadata": {},
   "outputs": [],
   "source": [
    "stop = datetime.now()"
   ]
  },
  {
   "cell_type": "code",
   "execution_count": null,
   "metadata": {},
   "outputs": [
    {
     "data": {
      "text/plain": [
       "257636"
      ]
     },
     "execution_count": 23,
     "metadata": {},
     "output_type": "execute_result"
    }
   ],
   "source": [
    "(stop - start).microseconds"
   ]
  },
  {
   "cell_type": "code",
   "execution_count": null,
   "metadata": {},
   "outputs": [],
   "source": []
  }
 ],
 "metadata": {
  "interpreter": {
   "hash": "2be5faf79681da6f2a61fdfdd5405d65d042280f7fba6178067603e3a2925119"
  },
  "kernelspec": {
   "display_name": "Python 3.10.0 64-bit",
   "language": "python",
   "name": "python3"
  },
  "language_info": {
   "codemirror_mode": {
    "name": "ipython",
    "version": 3
   },
   "file_extension": ".py",
   "mimetype": "text/x-python",
   "name": "python",
   "nbconvert_exporter": "python",
   "pygments_lexer": "ipython3",
   "version": "3.10.0"
  },
  "orig_nbformat": 4
 },
 "nbformat": 4,
 "nbformat_minor": 2
}
