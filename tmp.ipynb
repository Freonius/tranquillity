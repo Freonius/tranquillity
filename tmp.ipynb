{
 "cells": [
  {
   "cell_type": "code",
   "execution_count": 1,
   "metadata": {},
   "outputs": [],
   "source": [
    "from src.data._dataobject import DataObject\n",
    "from src.data.types._date import NSDate\n",
    "from src.data.types._datetime import DateTime\n",
    "from src.data.types._text import String, NSString\n",
    "from src.data.types._int import Int\n",
    "from src.data.types._phone_number import PhoneNumber\n",
    "from src.data.types._id import MongoId, Id, StrId\n",
    "from src.data.types._time import Time\n",
    "from src.data.types._nested import Nested\n",
    "from src.data.types._list import List\n",
    "from src.connections import Elasticsearch\n",
    "from src.api._api import Api"
   ]
  },
  {
   "cell_type": "code",
   "execution_count": 2,
   "metadata": {},
   "outputs": [],
   "source": [
    "class City(DataObject):\n",
    "    __conn__ = Elasticsearch\n",
    "    id = StrId(exclude=True)\n",
    "    name = NSString()\n",
    "    country_code = NSString(min_length=2, max_length=3, uppercase=True)\n",
    "\n",
    "\n",
    "\n",
    "class User(DataObject):\n",
    "    __conn__ = Elasticsearch\n",
    "    first_name = NSString(min_length=3, json_field='firstName')\n",
    "    last_name = NSString(json_field='lastName')\n",
    "    mobile = PhoneNumber(indexable=False)\n",
    "    id = StrId()\n",
    "    created = DateTime(default='now', indexable=False)\n",
    "    birthday = NSDate()\n",
    "    favourite_time = Time(indexable=False)\n",
    "    cities = List(City, filterable=False)\n",
    "\n",
    "User.set_permission('delete', 'admin')\n"
   ]
  },
  {
   "cell_type": "code",
   "execution_count": 3,
   "metadata": {},
   "outputs": [
    {
     "data": {
      "text/plain": [
       "True"
      ]
     },
     "execution_count": 3,
     "metadata": {},
     "output_type": "execute_result"
    }
   ],
   "source": [
    "User.drop_table()"
   ]
  },
  {
   "cell_type": "code",
   "execution_count": 4,
   "metadata": {},
   "outputs": [
    {
     "data": {
      "text/plain": [
       "{'mappings': {'properties': {'birthday': {'type': 'date', 'index': True},\n",
       "   'cities': {'type': 'nested'},\n",
       "   'created': {'type': 'date', 'index': False},\n",
       "   'favourite_time': {'type': 'text', 'index': False},\n",
       "   'first_name': {'type': 'text', 'index': True},\n",
       "   'last_name': {'type': 'text', 'index': True},\n",
       "   'mobile': {'type': 'text', 'index': False}}}}"
      ]
     },
     "execution_count": 4,
     "metadata": {},
     "output_type": "execute_result"
    }
   ],
   "source": [
    "\n",
    "User.to_es_mapping()"
   ]
  },
  {
   "cell_type": "code",
   "execution_count": 5,
   "metadata": {},
   "outputs": [
    {
     "data": {
      "text/plain": [
       "{'GET': 'public', 'POST': 'public', 'PUT': 'public', 'DELETE': 'admin'}"
      ]
     },
     "execution_count": 5,
     "metadata": {},
     "output_type": "execute_result"
    }
   ],
   "source": [
    "User.__permissions__"
   ]
  },
  {
   "cell_type": "code",
   "execution_count": 6,
   "metadata": {},
   "outputs": [
    {
     "data": {
      "text/plain": [
       "True"
      ]
     },
     "execution_count": 6,
     "metadata": {},
     "output_type": "execute_result"
    }
   ],
   "source": [
    "User.create_table()"
   ]
  },
  {
   "cell_type": "code",
   "execution_count": 7,
   "metadata": {},
   "outputs": [],
   "source": [
    "u = User(\n",
    "    first_name='Frodo',\n",
    "    last_name='Baggins',\n",
    "    mobile='+39 375 57 44 512',\n",
    "    birthday='1988-07-25',\n",
    "    favourite_time='18:00',\n",
    "    cities=[City(name='Piacenza', country_code='IT')]\n",
    ")"
   ]
  },
  {
   "cell_type": "code",
   "execution_count": 8,
   "metadata": {},
   "outputs": [],
   "source": [
    "u.validate()"
   ]
  },
  {
   "cell_type": "code",
   "execution_count": 9,
   "metadata": {},
   "outputs": [
    {
     "data": {
      "text/plain": [
       "True"
      ]
     },
     "execution_count": 9,
     "metadata": {},
     "output_type": "execute_result"
    }
   ],
   "source": [
    "u.add_to_db()"
   ]
  },
  {
   "cell_type": "code",
   "execution_count": 10,
   "metadata": {},
   "outputs": [
    {
     "data": {
      "text/plain": [
       "{'birthday': '1988-07-25',\n",
       " 'cities': [{'country_code': 'IT', '_id': None, 'name': 'Piacenza'}],\n",
       " 'created': '2022-02-20T11:47:13.489904',\n",
       " 'favourite_time': '18:00:00.000000',\n",
       " 'firstName': 'Frodo',\n",
       " '_id': 'Jwe-Fn8BZ6AV7k-3PdiQ',\n",
       " 'lastName': 'Baggins',\n",
       " 'mobile': '+39 375 57 44 512'}"
      ]
     },
     "execution_count": 10,
     "metadata": {},
     "output_type": "execute_result"
    }
   ],
   "source": [
    "u.to_json(False)"
   ]
  },
  {
   "cell_type": "code",
   "execution_count": 11,
   "metadata": {},
   "outputs": [],
   "source": [
    "u.first_name = 'Frodo Jr.'"
   ]
  },
  {
   "cell_type": "code",
   "execution_count": 12,
   "metadata": {},
   "outputs": [
    {
     "data": {
      "text/plain": [
       "True"
      ]
     },
     "execution_count": 12,
     "metadata": {},
     "output_type": "execute_result"
    }
   ],
   "source": [
    "u.add_to_db()"
   ]
  },
  {
   "cell_type": "code",
   "execution_count": 13,
   "metadata": {},
   "outputs": [
    {
     "data": {
      "text/plain": [
       "{'birthday': '1988-07-25',\n",
       " 'cities': [{'country_code': 'IT', '_id': None, 'name': 'Piacenza'}],\n",
       " 'created': '2022-02-20T11:47:13.489904',\n",
       " 'favourite_time': '18:00:00.000000',\n",
       " 'first_name': 'Frodo Jr.',\n",
       " '_id': 'Jwe-Fn8BZ6AV7k-3PdiQ',\n",
       " 'last_name': 'Baggins',\n",
       " 'mobile': '+39 375 57 44 512'}"
      ]
     },
     "execution_count": 13,
     "metadata": {},
     "output_type": "execute_result"
    }
   ],
   "source": [
    "u.to_dict()"
   ]
  },
  {
   "cell_type": "code",
   "execution_count": 14,
   "metadata": {},
   "outputs": [],
   "source": [
    "users = User.get_from_db()"
   ]
  },
  {
   "cell_type": "code",
   "execution_count": 15,
   "metadata": {},
   "outputs": [
    {
     "name": "stdout",
     "output_type": "stream",
     "text": [
      "{\"birthday\": \"1988-07-25\", \"cities\": [{\"country_code\": \"IT\", \"_id\": null, \"name\": \"Piacenza\"}], \"created\": \"2022-02-20T11:47:13.489904\", \"favourite_time\": \"18:00:00.000000\", \"firstName\": \"Frodo\", \"_id\": \"Jwe-Fn8BZ6AV7k-3PdiQ\", \"lastName\": \"Baggins\", \"mobile\": \"+39 375 57 44 512\"}\n"
     ]
    }
   ],
   "source": [
    "for user in users:\n",
    "    print(user.to_json())"
   ]
  },
  {
   "cell_type": "code",
   "execution_count": 16,
   "metadata": {},
   "outputs": [
    {
     "data": {
      "text/plain": [
       "<src.api._api.Api at 0x24d8bf22980>"
      ]
     },
     "execution_count": 16,
     "metadata": {},
     "output_type": "execute_result"
    }
   ],
   "source": [
    "api = Api()\n",
    "api.add_entity(User)\n",
    "api.add_entity(City)"
   ]
  },
  {
   "cell_type": "code",
   "execution_count": 17,
   "metadata": {},
   "outputs": [],
   "source": [
    "# with api:\n",
    "#     while True:\n",
    "#         try:\n",
    "#             continue\n",
    "#         except:\n",
    "#             api.stop()\n",
    "#             break"
   ]
  },
  {
   "cell_type": "code",
   "execution_count": 18,
   "metadata": {},
   "outputs": [],
   "source": [
    "from psycopg2 import connect\n",
    "from psycopg2._psycopg import connection"
   ]
  },
  {
   "cell_type": "code",
   "execution_count": 19,
   "metadata": {},
   "outputs": [],
   "source": [
    "from src.connections import Postgres"
   ]
  },
  {
   "cell_type": "code",
   "execution_count": 20,
   "metadata": {},
   "outputs": [],
   "source": [
    "with Postgres() as p:\n",
    "    p.is_connected"
   ]
  },
  {
   "cell_type": "code",
   "execution_count": 21,
   "metadata": {},
   "outputs": [
    {
     "data": {
      "text/plain": [
       "False"
      ]
     },
     "execution_count": 21,
     "metadata": {},
     "output_type": "execute_result"
    }
   ],
   "source": [
    "p.is_connected"
   ]
  },
  {
   "cell_type": "code",
   "execution_count": 2,
   "metadata": {},
   "outputs": [],
   "source": [
    "class User(DataObject):\n",
    "    __conn__ = Elasticsearch\n",
    "    first_name = NSString(min_length=3, json_field='firstName')\n",
    "    last_name = NSString(json_field='lastName')\n",
    "    mobile = PhoneNumber(indexable=False)\n",
    "    id = Id()\n",
    "    created = DateTime(default='now', indexable=False)\n",
    "    birthday = NSDate()\n",
    "    favourite_time = Time(indexable=False)"
   ]
  },
  {
   "cell_type": "code",
   "execution_count": 3,
   "metadata": {},
   "outputs": [
    {
     "name": "stdout",
     "output_type": "stream",
     "text": [
      "True\n",
      "[<User id=3>, <User id=4>, <User id=5>]\n"
     ]
    }
   ],
   "source": [
    "from src.connections import Sql, Postgres\n",
    "\n",
    "_tbl = False\n",
    "with Sql() as alch:\n",
    "    _tbl = alch.create_table(User)\n",
    "\n",
    "print(_tbl)\n",
    "\n",
    "u = User(first_name='John', last_name='Doe', birthday='1993-06-06')\n",
    "\n",
    "with Postgres() as p:\n",
    "    print(list(p.select(User, where=[User.birthday >= '1990-01-01'])))"
   ]
  },
  {
   "cell_type": "code",
   "execution_count": null,
   "metadata": {},
   "outputs": [],
   "source": []
  }
 ],
 "metadata": {
  "interpreter": {
   "hash": "2be5faf79681da6f2a61fdfdd5405d65d042280f7fba6178067603e3a2925119"
  },
  "kernelspec": {
   "display_name": "Python 3.10.0 64-bit",
   "language": "python",
   "name": "python3"
  },
  "language_info": {
   "codemirror_mode": {
    "name": "ipython",
    "version": 3
   },
   "file_extension": ".py",
   "mimetype": "text/x-python",
   "name": "python",
   "nbconvert_exporter": "python",
   "pygments_lexer": "ipython3",
   "version": "3.10.0"
  },
  "orig_nbformat": 4
 },
 "nbformat": 4,
 "nbformat_minor": 2
}
